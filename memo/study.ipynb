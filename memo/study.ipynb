{
 "cells": [
  {
   "cell_type": "code",
   "execution_count": 1,
   "metadata": {},
   "outputs": [
    {
     "name": "stdout",
     "output_type": "stream",
     "text": [
      "<list_iterator object at 0x000002668AEFFB20>\n",
      "1\n",
      "2\n",
      "3\n"
     ]
    }
   ],
   "source": [
    "a = [1,2,3,4,5]\n",
    "it = iter(a)\n",
    "print(it)\n",
    "print(next(it))\n",
    "print(next(it))\n",
    "print(next(it))"
   ]
  },
  {
   "cell_type": "code",
   "execution_count": 3,
   "metadata": {},
   "outputs": [
    {
     "name": "stdout",
     "output_type": "stream",
     "text": [
      "[['Alice', ' ', 'Developer'], ['Charlie', 'Manager', ' ']]\n"
     ]
    }
   ],
   "source": [
    "records = [\n",
    "    [\"Alice\", \" \", \"Developer\"],\n",
    "    [\"\", \"\", \"\"],\n",
    "    [\"Charlie\", \"Manager\", \" \"]\n",
    "]\n",
    "\n",
    "filtered_records = [record for record in records if any(field.strip() for field in record)]\n",
    "print(filtered_records)\n"
   ]
  },
  {
   "cell_type": "code",
   "execution_count": 8,
   "metadata": {},
   "outputs": [
    {
     "name": "stdout",
     "output_type": "stream",
     "text": [
      "[1]\n",
      "[1, 2]\n",
      "[1, 2, 3]\n",
      "[1, 2, 3, 4]\n",
      "[1, 2, 3, 4, 5]\n",
      "[1, 2, 3, 4, 5, 6]\n",
      "[1, 2, 3, 4, 5, 6, 7]\n",
      "bは[1, 2, 3, 4, 5, 6, 7]\n"
     ]
    }
   ],
   "source": [
    "hoge = [1,2,3,4,5,6,7]\n",
    "\n",
    "a = []\n",
    "for x in hoge:\n",
    "    a.append(x)\n",
    "    print(a)\n",
    "\n",
    "b = [x for x in hoge]\n",
    "print(f'bは{b}')"
   ]
  },
  {
   "cell_type": "code",
   "execution_count": 13,
   "metadata": {},
   "outputs": [
    {
     "name": "stdout",
     "output_type": "stream",
     "text": [
      "親l= [1, 2]\n",
      "ぷり1 i= 1\n",
      "ぷり2 b= [1]\n",
      "ぷり1 i= 2\n",
      "ぷり2 b= [1, 2]\n",
      "親l= [3, 4]\n",
      "ぷり1 i= 3\n",
      "ぷり2 b= [1, 2, 3]\n",
      "ぷり1 i= 4\n",
      "ぷり2 b= [1, 2, 3, 4]\n",
      "[1, 2, 3, 4]\n"
     ]
    }
   ],
   "source": [
    "b = []\n",
    "for l in [[1, 2],[3, 4]]:\n",
    "    print(\"親l=\",l)\n",
    "    for i in l:\n",
    "        print(\"ぷり1 i=\",i)\n",
    "        b.append(i)\n",
    "        print(\"ぷり2 b=\",b)\n",
    "    \n",
    "print(b)"
   ]
  },
  {
   "cell_type": "code",
   "execution_count": null,
   "metadata": {},
   "outputs": [],
   "source": []
  }
 ],
 "metadata": {
  "kernelspec": {
   "display_name": "Python 3",
   "language": "python",
   "name": "python3"
  },
  "language_info": {
   "codemirror_mode": {
    "name": "ipython",
    "version": 3
   },
   "file_extension": ".py",
   "mimetype": "text/x-python",
   "name": "python",
   "nbconvert_exporter": "python",
   "pygments_lexer": "ipython3",
   "version": "3.12.2"
  }
 },
 "nbformat": 4,
 "nbformat_minor": 2
}
