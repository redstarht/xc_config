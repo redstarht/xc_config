{
 "cells": [
  {
   "cell_type": "code",
   "execution_count": 12,
   "metadata": {},
   "outputs": [
    {
     "name": "stdout",
     "output_type": "stream",
     "text": [
      "[(10001, '山田 太郎', '一般'), (10002, '佐藤 花子', '課長'), (10003, '鈴木 次郎', '班長'), (10004, '高橋 美咲', '一般'), (10005, '田中 修', '組長'), (10006, '伊藤 真由美', '一般'), (10007, '渡辺 直樹', '課長'), (10008, '松本 優子', '一般'), (10009, '中村 健二', '班長'), (10010, '小林 由紀', '組長'), (10011, '山本 隆', '一般'), (10012, '加藤 晴美', '一般'), (10013, '吉田 勇人', '組長'), (10014, '小川 愛', '課長'), (10015, '山口 陽子', '班長'), (10016, '斎藤 孝', '一般'), (10017, '清水 さくら', '一般'), (10018, '山崎 太一', '組長'), (10019, '中島 奈々', '一般'), (10020, '森田 翔太', '班長'), (10021, '竹内 真紀', '一般'), (10022, '石川 智也', '課長'), (10023, '堀内 美和', '一般'), (10024, '長谷川 達也', '組長'), (10025, '石田 芳子', '一般'), (10026, '青木 大輔', '班長'), (10027, '岡本 絵美', '一般'), (10028, '松田 亮太', '組長'), (10029, '菊池 千春', '課長'), (10030, '片山 明子', '一般')]\n"
     ]
    }
   ],
   "source": [
    "import sqlite3\n",
    "\n",
    "db = \"C:/Users/DELL/z/dev/xc_config/tests/test.db\"\n",
    "\n",
    "\n",
    "def con_db():\n",
    "    return sqlite3.connect(db)\n",
    "\n",
    "\n",
    "with sqlite3.connect(db) as conn:\n",
    "    data = []\n",
    "    try:\n",
    "        cursor = conn.cursor()\n",
    "        cursor.execute(\"SELECT * from test_tb\")\n",
    "        data = cursor.fetchall()\n",
    "        print(data)\n",
    "    except Exception as e:\n",
    "        print(e)\n",
    "\n"
   ]
  },
  {
   "cell_type": "code",
   "execution_count": 3,
   "metadata": {},
   "outputs": [
    {
     "name": "stdout",
     "output_type": "stream",
     "text": [
      "[['Alice', ' ', 'Developer'], ['Charlie', 'Manager', ' ']]\n"
     ]
    }
   ],
   "source": [
    "records = [\n",
    "    [\"Alice\", \" \", \"Developer\"],\n",
    "    [\"\", \"\", \"\"],\n",
    "    [\"Charlie\", \"Manager\", \" \"]\n",
    "]\n",
    "\n",
    "filtered_records = [record for record in records if any(field.strip() for field in record)]\n",
    "\n",
    "\n",
    "print(filtered_records)\n"
   ]
  },
  {
   "cell_type": "code",
   "execution_count": 8,
   "metadata": {},
   "outputs": [
    {
     "name": "stdout",
     "output_type": "stream",
     "text": [
      "[1]\n",
      "[1, 2]\n",
      "[1, 2, 3]\n",
      "[1, 2, 3, 4]\n",
      "[1, 2, 3, 4, 5]\n",
      "[1, 2, 3, 4, 5, 6]\n",
      "[1, 2, 3, 4, 5, 6, 7]\n",
      "bは[1, 2, 3, 4, 5, 6, 7]\n"
     ]
    }
   ],
   "source": [
    "hoge = [1,2,3,4,5,6,7]\n",
    "\n",
    "a = []\n",
    "for x in hoge:\n",
    "    a.append(x)\n",
    "    print(a)\n",
    "\n",
    "b = [x for x in hoge]\n",
    "print(f'bは{b}')"
   ]
  },
  {
   "cell_type": "code",
   "execution_count": 13,
   "metadata": {},
   "outputs": [
    {
     "name": "stdout",
     "output_type": "stream",
     "text": [
      "親l= [1, 2]\n",
      "ぷり1 i= 1\n",
      "ぷり2 b= [1]\n",
      "ぷり1 i= 2\n",
      "ぷり2 b= [1, 2]\n",
      "親l= [3, 4]\n",
      "ぷり1 i= 3\n",
      "ぷり2 b= [1, 2, 3]\n",
      "ぷり1 i= 4\n",
      "ぷり2 b= [1, 2, 3, 4]\n",
      "[1, 2, 3, 4]\n"
     ]
    }
   ],
   "source": [
    "b = []\n",
    "for l in [[1, 2],[3, 4]]:\n",
    "    print(\"親l=\",l)\n",
    "    for i in l:\n",
    "        print(\"ぷり1 i=\",i)\n",
    "        b.append(i)\n",
    "        print(\"ぷり2 b=\",b)\n",
    "    \n",
    "print(b)"
   ]
  },
  {
   "cell_type": "code",
   "execution_count": null,
   "metadata": {},
   "outputs": [],
   "source": []
  }
 ],
 "metadata": {
  "kernelspec": {
   "display_name": "Python 3",
   "language": "python",
   "name": "python3"
  },
  "language_info": {
   "codemirror_mode": {
    "name": "ipython",
    "version": 3
   },
   "file_extension": ".py",
   "mimetype": "text/x-python",
   "name": "python",
   "nbconvert_exporter": "python",
   "pygments_lexer": "ipython3",
   "version": "3.12.8"
  }
 },
 "nbformat": 4,
 "nbformat_minor": 2
}
